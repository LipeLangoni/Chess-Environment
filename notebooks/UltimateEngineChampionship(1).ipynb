{
  "cells": [
    {
      "cell_type": "code",
      "execution_count": null,
      "metadata": {
        "colab": {
          "base_uri": "https://localhost:8080/"
        },
        "id": "tWfYPK0S-G-y",
        "outputId": "401c4602-66ac-4909-d66f-e7ab3c24ddcb"
      },
      "outputs": [
        {
          "output_type": "stream",
          "name": "stdout",
          "text": [
            "Collecting chess\n",
            "  Downloading chess-1.10.0-py3-none-any.whl (154 kB)\n",
            "\u001b[?25l     \u001b[90m━━━━━━━━━━━━━━━━━━━━━━━━━━━━━━━━━━━━━━━━\u001b[0m \u001b[32m0.0/154.4 kB\u001b[0m \u001b[31m?\u001b[0m eta \u001b[36m-:--:--\u001b[0m\r\u001b[2K     \u001b[91m━━━━━━━━━━\u001b[0m\u001b[91m╸\u001b[0m\u001b[90m━━━━━━━━━━━━━━━━━━━━━━━━━━━━━\u001b[0m \u001b[32m41.0/154.4 kB\u001b[0m \u001b[31m1.1 MB/s\u001b[0m eta \u001b[36m0:00:01\u001b[0m\r\u001b[2K     \u001b[90m━━━━━━━━━━━━━━━━━━━━━━━━━━━━━━━━━━━━━━━━\u001b[0m \u001b[32m154.4/154.4 kB\u001b[0m \u001b[31m2.6 MB/s\u001b[0m eta \u001b[36m0:00:00\u001b[0m\n",
            "\u001b[?25hInstalling collected packages: chess\n",
            "Successfully installed chess-1.10.0\n"
          ]
        }
      ],
      "source": [
        "!pip install chess"
      ]
    },
    {
      "cell_type": "code",
      "execution_count": null,
      "metadata": {
        "id": "XtjidIMd_fd5"
      },
      "outputs": [],
      "source": [
        "from google.colab import drive\n",
        "drive.mount('/content/drive')"
      ]
    },
    {
      "cell_type": "code",
      "execution_count": null,
      "metadata": {
        "id": "0lhbepNK_cBh"
      },
      "outputs": [],
      "source": [
        "import chess\n",
        "import random\n",
        "import inspect\n",
        "from datetime import datetime\n",
        "import multiprocessing as mp\n",
        "import chess.polyglot\n",
        "import chess.pgn\n",
        "import numpy as np"
      ]
    },
    {
      "cell_type": "markdown",
      "metadata": {
        "id": "8FRwXDDfAys-"
      },
      "source": [
        "# Utils"
      ]
    },
    {
      "cell_type": "code",
      "execution_count": null,
      "metadata": {
        "id": "r5k868i3_air"
      },
      "outputs": [],
      "source": [
        "def generate_game(player1,name1,ply1,player2,name2,ply2,game_num):\n",
        "    board = chess.Board()\n",
        "\n",
        "    book_paths = [\"/content/drive/MyDrive/aberturas/baron30.bin\",\"/content/drive/MyDrive/aberturas/gm2001.bin\",\"/content/drive/MyDrive/aberturas/komodo.bin\",\"/content/drive/MyDrive/aberturas/rodent.bin\"]\n",
        "    book = chess.polyglot.open_reader(random.choice(book_paths))\n",
        "\n",
        "    game = chess.pgn.Game()\n",
        "    game.headers[\"Event\"] = \"Prodigy_tets\"\n",
        "    game.headers[\"Round\"] = game_num\n",
        "    game.headers[\"Date\"] = datetime.today()\n",
        "    game.headers[\"White\"] = name1\n",
        "    game.headers[\"Black\"] = name2\n",
        "    for i in range(1000):\n",
        "        openings = []\n",
        "        for entry in book.find_all(board):\n",
        "            openings.append(entry.move)\n",
        "\n",
        "        if len(openings) != 0:\n",
        "            move = random.choice(openings)\n",
        "\n",
        "        elif board.turn == chess.WHITE:\n",
        "            if inspect.isclass(player1):\n",
        "                move = player1(board,ply1)\n",
        "                move = move.movement(ply1)\n",
        "            else:\n",
        "                move = player1(board,ply1)\n",
        "            if move == None:\n",
        "                return game\n",
        "\n",
        "        else:\n",
        "            if inspect.isclass(player2):\n",
        "                move = player2(board,ply2)\n",
        "                move = move.movement(ply2)\n",
        "            else:\n",
        "                move = player2(board,ply2)\n",
        "            if move == None:\n",
        "                return game\n",
        "        board.push(move)\n",
        "        if i == 0:\n",
        "            node = game.add_variation(move)\n",
        "        else:\n",
        "            node = node.add_variation(move)\n",
        "        if board.is_checkmate():\n",
        "            result = not board.turn\n",
        "            if result == True:\n",
        "                game.headers[\"Result\"] = \"1-0\"\n",
        "            else:\n",
        "                game.headers[\"Result\"] = \"0-1\"\n",
        "            return game\n",
        "        elif board.is_stalemate():\n",
        "                game.headers[\"Result\"] = \"1/2-1/2\"\n",
        "                return game\n",
        "        elif board.is_fivefold_repetition():\n",
        "                game.headers[\"Result\"] = \"1/2-1/2\"\n",
        "                return game\n",
        "        elif board.is_insufficient_material():\n",
        "                game.headers[\"Result\"] = \"1/2-1/2\"\n",
        "                return game\n",
        "        elif board.can_claim_draw():\n",
        "                game.headers[\"Result\"] = \"1/2-1/2\"\n",
        "                return game"
      ]
    },
    {
      "cell_type": "code",
      "execution_count": null,
      "metadata": {
        "id": "2pypYElDAyA9"
      },
      "outputs": [],
      "source": [
        "def create_pgn_file(file_name,num_games,player1,name1,ply1,player2,name2,ply2):\n",
        "    all_games = []\n",
        "    for games in range(num_games):\n",
        "        game = generate_game(player1,name1,ply1,player2,name2,ply2)\n",
        "        all_games.append(game)\n",
        "    pgn_strings = [str(game) for game in all_games]\n",
        "    unified_pgn = \"\\n\\n\".join(pgn_strings)\n",
        "\n",
        "    with open(file_name, \"w\") as pgn_file:\n",
        "        pgn_file.write(unified_pgn)"
      ]
    },
    {
      "cell_type": "markdown",
      "metadata": {
        "id": "p3HXB-VpA00h"
      },
      "source": [
        "# Competitors"
      ]
    },
    {
      "cell_type": "markdown",
      "metadata": {
        "id": "RuiwZg50FYdW"
      },
      "source": [
        "## hawks"
      ]
    },
    {
      "cell_type": "code",
      "execution_count": null,
      "metadata": {
        "id": "QfHm7UlrFanV"
      },
      "outputs": [],
      "source": [
        "def custom_loss(output, target):\n",
        "    from_loss = tf.keras.losses.CategoricalCrossentropy()\n",
        "    to_loss = tf.keras.losses.CategoricalCrossentropy()\n",
        "    loss = from_loss(output[:,0,:], target[:,0,:]) + to_loss(output[:,1,:], target[:,1,:])\n",
        "    return loss\n",
        "import tensorflow as tf\n",
        "custom_objects = {'custom_loss': custom_loss}\n",
        "#model = tf.keras.models.load_model('/content/drive/MyDrive/Tcc/hawks_v3.h5',custom_objects=custom_objects)\n",
        "alphabet_to_number = {\n",
        "    'a': 0,\n",
        "    'b': 1,\n",
        "    'c': 2,\n",
        "    'd': 3,\n",
        "    'e': 4,\n",
        "    'f': 5,\n",
        "    'g': 6,\n",
        "    'h': 7\n",
        "}\n",
        "\n",
        "number_to_alphabet = {v: k for k, v in alphabet_to_number.items()}\n",
        "\n",
        "import numpy as np\n",
        "def fen_to_numeric(fen_string,piece):\n",
        "    piece_placement = fen_string.split()[0]\n",
        "    board = [[0] * 8 for _ in range(8)]\n",
        "    row_index = 0\n",
        "    col_index = 0\n",
        "\n",
        "    for char in piece_placement:\n",
        "        if char == '/':\n",
        "            row_index += 1\n",
        "            col_index = 0\n",
        "        elif char.isdigit():\n",
        "            col_index += int(char)\n",
        "        elif char.lower() == piece.lower():\n",
        "            piece_value = 1\n",
        "            if char.islower():\n",
        "                piece_value *= -1\n",
        "            board[row_index][col_index] = piece_value\n",
        "            col_index += 1\n",
        "        else:\n",
        "          board[row_index][col_index] = 0\n",
        "          col_index += 1\n",
        "\n",
        "    return board\n",
        "\n",
        "def matrix_board(board):\n",
        "  pieces = [\"p\",\"k\",\"r\",\"n\",\"q\",\"b\"]\n",
        "  layers = []\n",
        "  for piece in pieces:\n",
        "    layers.append(fen_to_numeric(board.fen(),piece))\n",
        "  return np.stack(layers)\n",
        "\n",
        "def move_matrix(move):\n",
        "  uci_move = move\n",
        "\n",
        "  from_output_layer = np.zeros((8,8))\n",
        "  from_row= 8 - int(uci_move[1])\n",
        "  from_column= alphabet_to_number[uci_move[0]]\n",
        "  from_output_layer[from_row, from_column] = 1\n",
        "\n",
        "  to_output_layer = np.zeros((8,8))\n",
        "  to_row = 8 - int(uci_move[3])\n",
        "  tow_column = alphabet_to_number[uci_move[2]]\n",
        "  to_output_layer[to_row, tow_column] = 1\n",
        "  return np.stack([from_output_layer,to_output_layer])\n",
        "\n",
        "def distribution(probabilities):\n",
        "  dist = np.exp(np.array(probabilities))\n",
        "  dist = (dist/dist.sum())**3\n",
        "  return dist/dist.sum()\n",
        "\n",
        "def hawks(board,ply):\n",
        "  previous_position = matrix_board(board)\n",
        "  matrix = np.expand_dims(previous_position, axis=0)\n",
        "\n",
        "  if board.turn == False:\n",
        "    matrix *= -1\n",
        "\n",
        "  predictions = model.predict(matrix)\n",
        "\n",
        "  y = predictions[0,:,:]\n",
        "\n",
        "  vals = []\n",
        "  froms =  [str(legal_move)[:2] for legal_move in board.legal_moves]\n",
        "  froms = list(set(froms))\n",
        "  for from_ in froms:\n",
        "    val = y[0,:,:][8 - int(from_[1]), alphabet_to_number[from_[0]]]\n",
        "    vals.append(val)\n",
        "\n",
        "  probs = distribution(vals)\n",
        "  choosen = str(np.random.choice(froms, size=1, p=probs)[0])[:2]\n",
        "\n",
        "  values = []\n",
        "  moves = []\n",
        "  for move in list(board.legal_moves):\n",
        "    if choosen == str(move)[:2]:\n",
        "      to = str(move)[2:]\n",
        "      val = y[1,:,:][8 - int(to[1]), alphabet_to_number[to[0]]]\n",
        "      values.append(val)\n",
        "      moves.append(choosen+to)\n",
        "  choice = moves[np.argmax(values)]\n",
        "  return chess.Move.from_uci(choice)"
      ]
    },
    {
      "cell_type": "markdown",
      "metadata": {
        "id": "DKLI_XzNV5mF"
      },
      "source": [
        "## Hawks v4"
      ]
    },
    {
      "cell_type": "code",
      "execution_count": null,
      "metadata": {
        "id": "IhuVLIzuV7kb"
      },
      "outputs": [],
      "source": [
        "model_v4 = tf.keras.models.load_model('/content/drive/MyDrive/Tcc/hawks_v4.h5',custom_objects=custom_objects)\n",
        "def hawks_v4(board,ply):\n",
        "  previous_position = matrix_board(board)\n",
        "  matrix = np.expand_dims(previous_position, axis=0)\n",
        "\n",
        "  if board.turn == False:\n",
        "    matrix *= -1\n",
        "\n",
        "  predictions = model_v4.predict(matrix)\n",
        "\n",
        "  y = predictions[0,:,:]\n",
        "\n",
        "  vals = []\n",
        "  froms =  [str(legal_move)[:2] for legal_move in board.legal_moves]\n",
        "  froms = list(set(froms))\n",
        "  for from_ in froms:\n",
        "    val = y[0,:,:][8 - int(from_[1]), alphabet_to_number[from_[0]]]\n",
        "    vals.append(val)\n",
        "\n",
        "  probs = distribution(vals)\n",
        "  choosen = str(np.random.choice(froms, size=1, p=probs)[0])[:2]\n",
        "\n",
        "  values = []\n",
        "  moves = []\n",
        "  for move in list(board.legal_moves):\n",
        "    if choosen == str(move)[:2]:\n",
        "      to = str(move)[2:]\n",
        "      val = y[1,:,:][8 - int(to[1]), alphabet_to_number[to[0]]]\n",
        "      values.append(val)\n",
        "      moves.append(choosen+to)\n",
        "  choice = moves[np.argmax(values)]\n",
        "  return chess.Move.from_uci(choice)"
      ]
    },
    {
      "cell_type": "markdown",
      "metadata": {
        "id": "Gfuw3X3Zg-cv"
      },
      "source": [
        "## NoisyBoy"
      ]
    },
    {
      "cell_type": "code",
      "execution_count": null,
      "metadata": {
        "id": "R6NUmKVrhOR7"
      },
      "outputs": [],
      "source": [
        "import tensorflow as tf\n",
        "model_noisy_boy = tf.keras.models.load_model(\"/content/drive/MyDrive/models/noisy_boy_v3_no_overfitting.h5\")"
      ]
    },
    {
      "cell_type": "code",
      "execution_count": null,
      "metadata": {
        "id": "Ldvwwc_-hC9B"
      },
      "outputs": [],
      "source": [
        "def fen_to_numeric(fen_string,piece):\n",
        "    piece_placement = fen_string.split()[0]\n",
        "    board = [[0] * 8 for _ in range(8)]\n",
        "    row_index = 0\n",
        "    col_index = 0\n",
        "\n",
        "    for char in piece_placement:\n",
        "        if char == '/':\n",
        "            row_index += 1\n",
        "            col_index = 0\n",
        "        elif char.isdigit():\n",
        "            col_index += int(char)\n",
        "        elif char.lower() == piece.lower():\n",
        "            piece_value = 1\n",
        "            if char.islower():\n",
        "                piece_value *= -1\n",
        "            board[row_index][col_index] = piece_value\n",
        "            col_index += 1\n",
        "        else:\n",
        "          board[row_index][col_index] = 0\n",
        "          col_index += 1\n",
        "\n",
        "    return board\n",
        "\n",
        "def matrix_board(board):\n",
        "  pieces = [\"p\",\"k\",\"r\",\"n\",\"q\",\"b\"]\n",
        "  layers = []\n",
        "  for piece in pieces:\n",
        "    layers.append(fen_to_numeric(board.fen(),piece))\n",
        "  return np.stack(layers)\n",
        "\n",
        "class noisy_boy_v1():\n",
        "  def __init__(self, board, ply):\n",
        "    self.board = board\n",
        "    self.ply = ply\n",
        "    self.cor = self.board.turn\n",
        "\n",
        "  def avaliacao(self,cor):\n",
        "    if self.board.is_repetition(2):\n",
        "      return 0\n",
        "    if cor:\n",
        "      return model_noisy_boy.predict(np.array(matrix_board(self.board)).reshape(-1, 6, 8,8),verbose=0)[0].tolist()[0]\n",
        "    else:\n",
        "      return -model_noisy_boy.predict(np.array(matrix_board(self.board)).reshape(-1, 6, 8,8),verbose=0)[0].tolist()[0]\n",
        "\n",
        "\n",
        "  def negamax(self, alpha, beta, ply):\n",
        "    if self.board.is_checkmate():\n",
        "        if self.board.turn == self.cor:\n",
        "          return +9999\n",
        "        else:\n",
        "          return -9999\n",
        "    if ply == 0:\n",
        "      return self.quisce(-beta,-alpha,3)\n",
        "\n",
        "    score = 0\n",
        "    best_value = -1000\n",
        "    #sorted_moves = sorted(list(self.board.legal_moves), key=is_check_move, reverse=True)\n",
        "    #print(list(self.board.legal_moves))\n",
        "    for move in list(self.board.legal_moves):\n",
        "      self.board.push(move)\n",
        "      score = -self.negamax(-beta, -alpha, ply-1)\n",
        "      # print(\"------- \"+str(ply)+ \"------\")\n",
        "      # print(str(move) + \" : \" + str(score))\n",
        "      self.board.pop()\n",
        "\n",
        "      if best_value < score:\n",
        "        best_value = score\n",
        "\n",
        "      if score >= beta:\n",
        "        # print(\"-------Eureka Cutoff------\")\n",
        "        # print(str(move) + \" : \" + str(score) + \" : \" + str(beta))\n",
        "        return beta\n",
        "\n",
        "      alpha = max(score, alpha)\n",
        "\n",
        "    return best_value\n",
        "\n",
        "  def quisce(self,alpha,beta,ply):\n",
        "    if ply == 0:\n",
        "      return self.avaliacao(self.board.turn)\n",
        "\n",
        "    stand_pat = self.avaliacao(self.board.turn)\n",
        "    if stand_pat >= beta:\n",
        "      return beta\n",
        "\n",
        "    delta = 1000\n",
        "\n",
        "    if alpha < stand_pat:\n",
        "      alpha = stand_pat\n",
        "\n",
        "    for move in list(self.board.legal_moves):\n",
        "      if self.board.is_capture(move):\n",
        "        self.board.push(move)\n",
        "        score = -self.quisce(-beta, -alpha, ply-1)\n",
        "        self.board.pop()\n",
        "\n",
        "        if move.promotion:\n",
        "            delta+=750\n",
        "        if stand_pat < alpha-delta:\n",
        "            return alpha\n",
        "        if score >= beta:\n",
        "            return beta\n",
        "        if score > alpha:\n",
        "            alpha = score\n",
        "    return alpha\n",
        "\n",
        "  def movement(self, ply):\n",
        "    best_move = None\n",
        "    best_value = -1000\n",
        "\n",
        "    alpha = -1000\n",
        "    beta = 1000\n",
        "\n",
        "    for move in list(self.board.legal_moves):\n",
        "      self.board.push(move)\n",
        "      score = -self.negamax(-beta, -alpha, ply)\n",
        "      self.board.pop()\n",
        "\n",
        "      if best_move == None:\n",
        "          best_move = move\n",
        "      if best_value < score:\n",
        "          best_value = score\n",
        "          best_move = move\n",
        "\n",
        "    return best_move"
      ]
    },
    {
      "cell_type": "markdown",
      "metadata": {
        "id": "_gCVEoRCCHLi"
      },
      "source": [
        "#Show Time"
      ]
    },
    {
      "cell_type": "code",
      "execution_count": null,
      "metadata": {
        "id": "Mbe7wRhAqjhx"
      },
      "outputs": [],
      "source": [
        "def create_pgn_file(file_name, num_games, player1, name1, ply1, player2, name2, ply2):\n",
        "    for game_num in range(1, num_games + 1):\n",
        "        game = generate_game(player1, name1, ply1, player2, name2, ply2, game_num)\n",
        "        pgn_string = str(game)\n",
        "\n",
        "        with open(file_name, \"a\") as pgn_file:\n",
        "            if game_num > 1:\n",
        "                # If this is not the first game, add an extra line for separation\n",
        "                pgn_file.write(\"\\n\\n\")\n",
        "            pgn_file.write(pgn_string)\n",
        "        print(\"Game ended: \",game_num)"
      ]
    },
    {
      "cell_type": "code",
      "execution_count": null,
      "metadata": {
        "id": "YwUu09YRLrWd"
      },
      "outputs": [],
      "source": [
        "def dumb_player(board,ply):\n",
        "  return random.choice(list(board.legal_moves))"
      ]
    },
    {
      "cell_type": "code",
      "execution_count": null,
      "metadata": {
        "colab": {
          "base_uri": "https://localhost:8080/"
        },
        "id": "YW5-Obm_BKTb",
        "outputId": "a864964d-c90a-4b7b-c7ad-9845a3753e48"
      },
      "outputs": [
        {
          "output_type": "stream",
          "name": "stdout",
          "text": [
            "Game ended:  1\n",
            "Game ended:  2\n"
          ]
        }
      ],
      "source": [
        "file_name = \"/content/drive/MyDrive/acw2023/Noisy_new_vs_prodigy.pgn\"\n",
        "num_games = 2\n",
        "\n",
        "name1 = \"NoisyBoy\"\n",
        "ply1 = 0\n",
        "name2 = \"Prodigy\"\n",
        "ply2 = 4\n",
        "\n",
        "create_pgn_file(file_name, num_games, noisy_boy_v1, name1, ply1, engine_v2 , name2, ply2)"
      ]
    }
  ],
  "metadata": {
    "colab": {
      "provenance": []
    },
    "kernelspec": {
      "display_name": "Python 3",
      "name": "python3"
    },
    "language_info": {
      "name": "python"
    }
  },
  "nbformat": 4,
  "nbformat_minor": 0
}